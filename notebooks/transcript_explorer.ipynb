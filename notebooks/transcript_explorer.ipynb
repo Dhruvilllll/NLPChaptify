{
 "cells": [
  {
   "cell_type": "code",
   "execution_count": null,
   "id": "c328cbf8",
   "metadata": {},
   "outputs": [],
   "source": [
    "# transcript_explorer.ipynb\n",
    "\n",
    "from utils.transcript import fetch_youtube_transcript\n",
    "from utils.chunking import chunk_transcript\n",
    "from transformers import AutoTokenizer\n",
    "import matplotlib.pyplot as plt\n",
    "\n",
    "video_id = \"INSERT_VIDEO_ID\"\n",
    "\n",
    "# Load tokenizer to view token count\n",
    "tokenizer = AutoTokenizer.from_pretrained(\"facebook/bart-large-cnn\")\n",
    "\n",
    "# Fetch transcript\n",
    "transcript = fetch_youtube_transcript(video_id)\n",
    "text = \" \".join([t[\"text\"] for t in transcript])\n",
    "\n",
    "# Chunk\n",
    "chunks = chunk_transcript(transcript)\n",
    "print(f\"🧩 {len(chunks)} chunks generated\")\n",
    "\n",
    "# Plot token count per chunk\n",
    "token_counts = [len(tokenizer.encode(chunk)) for chunk in chunks]\n",
    "\n",
    "plt.figure(figsize=(12, 5))\n",
    "plt.bar(range(len(token_counts)), token_counts)\n",
    "plt.title(\"Token Count per Chunk\")\n",
    "plt.xlabel(\"Chunk Index\")\n",
    "plt.ylabel(\"Token Count\")\n",
    "plt.show()\n"
   ]
  },
  {
   "cell_type": "code",
   "execution_count": null,
   "id": "fc6906ef",
   "metadata": {},
   "outputs": [],
   "source": []
  }
 ],
 "metadata": {
  "kernelspec": {
   "display_name": "Python 3",
   "language": "python",
   "name": "python3"
  },
  "language_info": {
   "codemirror_mode": {
    "name": "ipython",
    "version": 3
   },
   "file_extension": ".py",
   "mimetype": "text/x-python",
   "name": "python",
   "nbconvert_exporter": "python",
   "pygments_lexer": "ipython3",
   "version": "3.11.9"
  }
 },
 "nbformat": 4,
 "nbformat_minor": 5
}
