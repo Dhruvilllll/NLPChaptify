{
 "cells": [
  {
   "cell_type": "code",
   "execution_count": null,
   "id": "e0e95bd5",
   "metadata": {},
   "outputs": [],
   "source": [
    "import json\n",
    "from IPython.display import display, Markdown\n",
    "\n",
    "video_id = \"INSERT_VIDEO_ID\"\n",
    "chapters_path = f\"outputs/chapters/{video_id}_chapters.json\"\n",
    "\n",
    "# Load summaries\n",
    "with open(chapters_path, \"r\", encoding=\"utf-8\") as f:\n",
    "    chapters = json.load(f)\n",
    "\n",
    "# Display one by one\n",
    "for i, chapter in enumerate(chapters):\n",
    "    display(Markdown(f\"\"\"\n",
    "### ✅ Chapter {i+1}\n",
    "- 🕒 {chapter['start']} - {chapter['end']}\n",
    "- **Summary:** {chapter['summary']}\n",
    "---\n",
    "\"\"\"))\n"
   ]
  },
  {
   "cell_type": "code",
   "execution_count": null,
   "id": "a7de9b0f",
   "metadata": {},
   "outputs": [],
   "source": []
  }
 ],
 "metadata": {
  "kernelspec": {
   "display_name": "Python 3",
   "language": "python",
   "name": "python3"
  },
  "language_info": {
   "codemirror_mode": {
    "name": "ipython",
    "version": 3
   },
   "file_extension": ".py",
   "mimetype": "text/x-python",
   "name": "python",
   "nbconvert_exporter": "python",
   "pygments_lexer": "ipython3",
   "version": "3.11.9"
  }
 },
 "nbformat": 4,
 "nbformat_minor": 5
}
