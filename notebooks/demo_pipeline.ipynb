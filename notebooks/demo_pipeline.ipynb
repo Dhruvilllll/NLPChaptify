{
 "cells": [
  {
   "cell_type": "code",
   "execution_count": null,
   "id": "af36cba3",
   "metadata": {},
   "outputs": [],
   "source": [
    "# demo_pipeline.ipynb\n",
    "import os\n",
    "import sys\n",
    "sys.path.append(os.path.abspath(os.path.join(os.path.dirname(__file__), \"..\")))\n",
    "\n",
    "# 📌 Step 0: Imports\n",
    "from utils.transcript import fetch_youtube_transcript\n",
    "from utils.chunking import chunk_transcript\n",
    "from utils.summarization import summarize_chunks\n",
    "from utils.formatter import format_chapters\n",
    "from utils.file_manager import save_json\n",
    "from utils.file_manager import save_output \n",
    "from models.titler import generate_titles\n",
    "\n",
    "video_id = \"INSERT_VIDEO_ID\"\n",
    "\n",
    "# 📜 Step 1: Fetch Transcript\n",
    "transcript = fetch_youtube_transcript(video_id)\n",
    "print(f\"Transcript Length: {len(transcript)} segments\")\n",
    "\n",
    "# 🧩 Step 2: Chunk Transcript\n",
    "chunks = chunk_transcript(transcript)\n",
    "print(f\"Chunks Generated: {len(chunks)}\")\n",
    "\n",
    "# 🧠 Step 3: Summarize Chunks\n",
    "summaries = summarize_chunks(chunks)\n",
    "\n",
    "# 🧾 Step 4: Format Output\n",
    "chapters = format_chapters(summaries)\n",
    "\n",
    "# 💾 Step 5: Save Outputs\n",
    "save_output(video_id, chapters, titles)\n",
    "print(\"✅ Output saved to /outputs\")"
   ]
  },
  {
   "cell_type": "code",
   "execution_count": null,
   "id": "1494236b",
   "metadata": {},
   "outputs": [],
   "source": []
  }
 ],
 "metadata": {
  "kernelspec": {
   "display_name": "Python 3",
   "language": "python",
   "name": "python3"
  },
  "language_info": {
   "name": "python",
   "version": "3.11.9"
  }
 },
 "nbformat": 4,
 "nbformat_minor": 5
}
